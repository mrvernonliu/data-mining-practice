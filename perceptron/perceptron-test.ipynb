{
 "cells": [
  {
   "cell_type": "code",
   "execution_count": 7,
   "metadata": {},
   "outputs": [],
   "source": [
    "from IPython.core.interactiveshell import InteractiveShell"
   ]
  },
  {
   "cell_type": "code",
   "execution_count": 3,
   "metadata": {},
   "outputs": [],
   "source": [
    "import numpy as np\n",
    "from matplotlib import pyplot as plt\n"
   ]
  },
  {
   "cell_type": "code",
   "execution_count": 11,
   "metadata": {},
   "outputs": [],
   "source": [
    "# Data\n",
    "x = np.array([\n",
    "    [1,1,1],\n",
    "    [1,2,1],\n",
    "    [1,1,2],\n",
    "    [1,2,4],\n",
    "    [1,3,3],\n",
    "    [1,4,2]\n",
    "]);\n",
    "y = np.array([\n",
    "    [-1],\n",
    "    [-1],\n",
    "    [-1],\n",
    "    [1],\n",
    "    [1],\n",
    "    [1]\n",
    "])\n",
    "w = np.array([\n",
    "    [0.1,0.1, 0.1]\n",
    "])\n",
    "eta = 0.1\n",
    "\n",
    "# Get the points for the two groups\n",
    "# This will be used for the graph later\n",
    "xlist = x.tolist()\n",
    "ylist = y.tolist()\n",
    "red = []\n",
    "blue = []\n",
    "for i in range(0, len(xlist)):\n",
    "    if ylist[i][0] == 1:\n",
    "        red.append(xlist[i])\n",
    "    else:\n",
    "        blue.append(xlist[i])\n",
    "\n",
    "points_red = np.array([[item[1], item[2]] for item in red])\n",
    "red_x , red_y = points_red.T\n",
    "\n",
    "points_blue = np.array([[item[1], item[2]] for item in blue])\n",
    "blue_x, blue_y = points_blue.T"
   ]
  },
  {
   "cell_type": "markdown",
   "metadata": {},
   "source": [
    "# The first chunk will have the entire code in a loop\n",
    "For the walkthrough jump down"
   ]
  },
  {
   "cell_type": "code",
   "execution_count": 12,
   "metadata": {},
   "outputs": [
    {
     "data": {
      "image/png": "[encoded data removed]",
      "text/plain": [
       "<Figure size 432x288 with 1 Axes>"
      ]
     },
     "metadata": {
      "needs_background": "light"
     },
     "output_type": "display_data"
    }
   ],
   "source": [
    "while(1):\n",
    "    mask = (y*np.dot(x, w.T)<0).reshape(x.shape[0])\n",
    "    if np.all(mask == 0):\n",
    "        break\n",
    "    x_error = x[mask, :]\n",
    "    y_error = y[mask, :]\n",
    "    z = np.sum(x_error*y_error, axis=0, keepdims=True)\n",
    "    w = w + eta*z\n",
    "# At this point we have the final w vector\n",
    "# Let's seperate the points and plot everything on a graph now\n",
    "\n",
    "# Get the formula of the line (we are using y=mx+b)\n",
    "m = w[0][1]/w[0][2]\n",
    "b = w[0][0]/w[0][2]\n",
    "line_x = np.linspace(0,5,5)\n",
    "line_y = -1*(m*line_x+b)\n",
    "\n",
    "# Plot the graph\n",
    "plt.plot(line_x, line_y, '-r', label='model')\n",
    "plt.scatter(red_x, red_y, color='red')\n",
    "plt.scatter(blue_x, blue_y, color='blue')\n",
    "plt.show()"
   ]
  },
  {
   "cell_type": "code",
   "execution_count": 9,
   "metadata": {},
   "outputs": [
    {
     "data": {
      "text/plain": [
       "array([[1. ],\n",
       "       [0.7],\n",
       "       [0.7],\n",
       "       [0.2],\n",
       "       [0.2],\n",
       "       [0.2]])"
      ]
     },
     "execution_count": 9,
     "metadata": {},
     "output_type": "execute_result"
    }
   ],
   "source": [
    "results"
   ]
  },
  {
   "cell_type": "markdown",
   "metadata": {},
   "source": [
    "# Walkthrough"
   ]
  },
  {
   "cell_type": "code",
   "execution_count": 17,
   "metadata": {},
   "outputs": [
    {
     "name": "stdout",
     "output_type": "stream",
     "text": [
      "[[0.3]\n",
      " [0.4]\n",
      " [0.4]\n",
      " [0.7]\n",
      " [0.7]\n",
      " [0.7]]\n"
     ]
    }
   ],
   "source": [
    "# to classify the training instances with W we do the w0x0 + w1x1 + w2x2 \n",
    "# this is the same as np.dot(x, w.T);\n",
    "\n",
    "print(np.dot(x, w.T));\n"
   ]
  },
  {
   "cell_type": "code",
   "execution_count": 19,
   "metadata": {},
   "outputs": [
    {
     "name": "stdout",
     "output_type": "stream",
     "text": [
      "[[-0.3]\n",
      " [-0.4]\n",
      " [-0.4]\n",
      " [ 0.7]\n",
      " [ 0.7]\n",
      " [ 0.7]]\n"
     ]
    }
   ],
   "source": [
    "# To see what training instances are incorrect we can do\n",
    "# ywx < 0 ? incorrect : correct\n",
    "# To do this over an entire array we can just do\n",
    "# y*x@w.T\n",
    "\n",
    "results = y*np.dot(x, w.T)\n",
    "print(results)\n",
    "\n",
    "# As we can see from the results, the first three instances are incorrect"
   ]
  },
  {
   "cell_type": "code",
   "execution_count": 27,
   "metadata": {},
   "outputs": [
    {
     "data": {
      "text/plain": [
       "array([ True,  True,  True, False, False, False])"
      ]
     },
     "execution_count": 27,
     "metadata": {},
     "output_type": "execute_result"
    }
   ],
   "source": [
    "# Now we need to get the incorrect instances using a mask and\n",
    "mask = (y*np.dot(x, w.T)<0).reshape(x.shape[0])\n",
    "mask"
   ]
  },
  {
   "cell_type": "code",
   "execution_count": 32,
   "metadata": {},
   "outputs": [
    {
     "data": {
      "text/plain": [
       "array([[1, 1, 1],\n",
       "       [1, 2, 1],\n",
       "       [1, 1, 2]])"
      ]
     },
     "execution_count": 32,
     "metadata": {},
     "output_type": "execute_result"
    }
   ],
   "source": [
    "#Using this new mask we can get only the rows of x,y, and w that were misclassified\n",
    "\n",
    "x_error = x[mask, :]\n",
    "y_error = y[mask, :]\n",
    "x_error\n"
   ]
  },
  {
   "cell_type": "code",
   "execution_count": 33,
   "metadata": {},
   "outputs": [
    {
     "data": {
      "text/plain": [
       "array([[-3, -4, -4]])"
      ]
     },
     "execution_count": 33,
     "metadata": {},
     "output_type": "execute_result"
    }
   ],
   "source": [
    "# Using x_error and y_error we can compute how much to change w by\n",
    "z = np.sum(x_error*y_error, axis=0, keepdims=True)\n",
    "z"
   ]
  },
  {
   "cell_type": "code",
   "execution_count": 34,
   "metadata": {},
   "outputs": [
    {
     "data": {
      "text/plain": [
       "array([[-0.2, -0.3, -0.3]])"
      ]
     },
     "execution_count": 34,
     "metadata": {},
     "output_type": "execute_result"
    }
   ],
   "source": [
    "# Now using the sum of the errors, calculate the new w\n",
    "w = w + eta*z\n",
    "w"
   ]
  }
 ],
 "metadata": {
  "kernelspec": {
   "display_name": "Python 3",
   "language": "python",
   "name": "python3"
  },
  "language_info": {
   "codemirror_mode": {
    "name": "ipython",
    "version": 3
   },
   "file_extension": ".py",
   "mimetype": "text/x-python",
   "name": "python",
   "nbconvert_exporter": "python",
   "pygments_lexer": "ipython3",
   "version": "3.7.3"
  }
 },
 "nbformat": 4,
 "nbformat_minor": 2
}
